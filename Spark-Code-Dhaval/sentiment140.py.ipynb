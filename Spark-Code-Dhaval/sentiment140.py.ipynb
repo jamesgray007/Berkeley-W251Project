{
 "cells": [
  {
   "cell_type": "code",
   "execution_count": 2,
   "metadata": {
    "collapsed": true
   },
   "outputs": [],
   "source": [
    "import boto\n",
    "import matplotlib.pyplot as plt\n",
    "import re\n",
    "import datetime\n",
    "import requests\n",
    "AWS_ACCESS_KEY_ID = ''\n",
    "AWS_SECRET_KEY = ''\n",
    "bucket_name = '251mids'\n",
    "s3_connection = boto.connect_s3(AWS_ACCESS_KEY_ID, AWS_SECRET_KEY)\n",
    "bucket = s3_connection.get_bucket(bucket_name)"
   ]
  },
  {
   "cell_type": "code",
   "execution_count": 12,
   "metadata": {
    "collapsed": false,
    "scrolled": false
   },
   "outputs": [
    {
     "ename": "TypeError",
     "evalue": "sequence item 0: expected string, datetime.datetime found",
     "output_type": "error",
     "traceback": [
      "\u001b[1;31m---------------------------------------------------------------------------\u001b[0m",
      "\u001b[1;31mTypeError\u001b[0m                                 Traceback (most recent call last)",
      "\u001b[1;32m<ipython-input-12-25b0ae901544>\u001b[0m in \u001b[0;36m<module>\u001b[1;34m()\u001b[0m\n\u001b[0;32m     11\u001b[0m         \u001b[1;31m#print len(total_keys.get(hour))\u001b[0m\u001b[1;33m\u001b[0m\u001b[1;33m\u001b[0m\u001b[0m\n\u001b[0;32m     12\u001b[0m         \u001b[0mtotal_keys\u001b[0m\u001b[1;33m[\u001b[0m\u001b[0mhour\u001b[0m\u001b[1;33m]\u001b[0m \u001b[1;33m=\u001b[0m \u001b[0mtotal_keys\u001b[0m\u001b[1;33m.\u001b[0m\u001b[0mget\u001b[0m\u001b[1;33m(\u001b[0m\u001b[0mhour\u001b[0m\u001b[1;33m,\u001b[0m \u001b[1;33m[\u001b[0m\u001b[1;33m]\u001b[0m\u001b[1;33m)\u001b[0m \u001b[1;33m+\u001b[0m \u001b[0mcontents\u001b[0m\u001b[1;33m\u001b[0m\u001b[0m\n\u001b[1;32m---> 13\u001b[1;33m \u001b[1;32mprint\u001b[0m \u001b[1;34m'\\n'\u001b[0m\u001b[1;33m.\u001b[0m\u001b[0mjoin\u001b[0m\u001b[1;33m(\u001b[0m\u001b[0mtotal_keys\u001b[0m\u001b[1;33m.\u001b[0m\u001b[0mkeys\u001b[0m\u001b[1;33m(\u001b[0m\u001b[1;33m)\u001b[0m\u001b[1;33m)\u001b[0m\u001b[1;33m\u001b[0m\u001b[0m\n\u001b[0m",
      "\u001b[1;31mTypeError\u001b[0m: sequence item 0: expected string, datetime.datetime found"
     ]
    }
   ],
   "source": [
    "total_keys = {}\n",
    "for keys in bucket.list():\n",
    "    if re.match(r\".*tweet.*part.*\", keys.name):\n",
    "        ts = int(re.findall(r'[0-9]{8,}', keys.name)[0])/1000\n",
    "        ts = datetime.datetime.fromtimestamp(ts)\n",
    "        hour = datetime.datetime.strptime(datetime.datetime.strftime(ts, \"%H:00:00 %Y-%m-%d\"), \"%H:00:00 %Y-%m-%d\")\n",
    "        contents = keys.get_contents_as_string()\n",
    "        contents = contents.strip().split('\\n')\n",
    "        contents = [(re.sub(r'[^0-9a-zA-Z\\.\\:]', ' ', line.replace('\\n', '. ').replace('\"', \"'\")).split('\\t')[0], int(line.split('\\t')[-1])) for line in contents if len(line) != 0]\n",
    "        #print len(contents), hour, len(total_keys)\n",
    "        #print len(total_keys.get(hour))\n",
    "        total_keys[hour] = total_keys.get(hour, []) + contents\n",
    "print '\\n'.join(total_keys.keys())"
   ]
  },
  {
   "cell_type": "code",
   "execution_count": 25,
   "metadata": {
    "collapsed": false,
    "scrolled": true
   },
   "outputs": [
    {
     "name": "stdout",
     "output_type": "stream",
     "text": [
      "2016-04-14 19:00:00 5818\n",
      "5818\n",
      "\n",
      "2016-04-14 20:00:00 6155\n",
      "6155\n",
      "\n",
      "2016-04-14 05:00:00 2700\n",
      "2700\n",
      "\n",
      "2016-04-13 20:00:00 14238\n",
      "8000\n",
      "6238\n",
      "\n",
      "2016-04-14 00:00:00 8358\n",
      "8000\n",
      "358\n",
      "\n",
      "2016-04-13 23:00:00 10598\n",
      "8000\n",
      "2598\n",
      "\n",
      "2016-04-15 00:00:00 5625\n",
      "5625\n",
      "\n",
      "2016-04-14 11:00:00 7107\n",
      "7107\n",
      "\n",
      "2016-04-14 06:00:00 3446\n",
      "3446\n",
      "\n",
      "2016-04-14 17:00:00 5420\n",
      "5420\n",
      "\n",
      "2016-04-14 03:00:00 2146\n",
      "2146\n",
      "\n",
      "2016-04-14 04:00:00 2350\n",
      "2350\n",
      "\n",
      "2016-04-14 23:00:00 5097\n",
      "5097\n",
      "\n",
      "2016-04-14 09:00:00 5474\n",
      "5474\n",
      "\n",
      "2016-04-14 18:00:00 5825\n",
      "5825\n",
      "\n",
      "2016-04-13 18:00:00 12974\n",
      "8000\n",
      "4974\n",
      "\n",
      "2016-04-13 21:00:00 14764\n",
      "8000\n",
      "6764\n",
      "\n",
      "2016-04-14 21:00:00 7714\n",
      "7714\n",
      "\n",
      "2016-04-14 16:00:00 5055\n",
      "5055\n",
      "\n",
      "2016-04-14 01:00:00 5269\n",
      "5269\n",
      "\n",
      "2016-04-14 10:00:00 5229\n",
      "5229\n",
      "\n",
      "2016-04-14 07:00:00 4394\n",
      "4394\n",
      "\n",
      "2016-04-14 08:00:00 4902\n",
      "4902\n",
      "\n",
      "2016-04-14 02:00:00 2250\n",
      "2250\n",
      "\n",
      "2016-04-13 22:00:00 12228\n",
      "8000\n",
      "4228\n",
      "\n",
      "2016-04-13 19:00:00 14238\n",
      "8000\n",
      "6238\n",
      "\n",
      "2016-04-13 17:00:00 12364\n",
      "8000\n",
      "4364\n",
      "\n",
      "2016-04-14 22:00:00 7243\n",
      "7243\n",
      "\n"
     ]
    }
   ],
   "source": [
    "url = 'http://www.sentiment140.com/api/bulkClassify?query=trump'\n",
    "avg_sentiments = []\n",
    "for key in total_keys.keys():\n",
    "    sents = {}\n",
    "    print key, len(total_keys[key])\n",
    "    counts = total_keys[key]\n",
    "    tweets = [u[0] for u in counts]\n",
    "    c = len(tweets)/8000 + 1\n",
    "    _id = 0\n",
    "    for i in range(c):\n",
    "        data_string = '\\n'.join(tweets[i * 8000: (i+1)* 8000])\n",
    "        r = requests.post(url, data_string)\n",
    "        u = [(v.split('\",\"')[1][:-1], eval(v.split(',')[0])) for v in r.text.strip().split('\\n')]\n",
    "        print len(u)\n",
    "        for string, sentiment in u:\n",
    "            if sentiment == '0':\n",
    "                s = -1.0\n",
    "            elif sentiment == '2':\n",
    "                s = 0.0\n",
    "            elif sentiment == '4':\n",
    "                s = 1.0\n",
    "            else:\n",
    "                raise ValueError\n",
    "            sents[counts[_id][0]] = (counts[_id][1], s)\n",
    "            _id += 1\n",
    "    print\n",
    "    sent2 = sents.items()\n",
    "    s = sum([u[1][0] * u[1][1] for u in sent2])\n",
    "    to = sum([u[1][0] for u in sent2])\n",
    "    avg_sentiments.append((key, s / to))"
   ]
  },
  {
   "cell_type": "code",
   "execution_count": 28,
   "metadata": {
    "collapsed": false,
    "scrolled": false
   },
   "outputs": [
    {
     "data": {
      "image/png": "[encoded data removed]",
      "text/plain": [
       "<matplotlib.figure.Figure at 0x410f0d0>"
      ]
     },
     "metadata": {},
     "output_type": "display_data"
    }
   ],
   "source": [
    "%matplotlib inline\n",
    "avg_sentiments = sorted(avg_sentiments, key=lambda x: x[0])\n",
    "plt.plot(zip(*avg_sentiments)[0], zip(*avg_sentiments)[1])\n",
    "plt.xticks(zip(*avg_sentiments)[0], zip(*avg_sentiments)[0], rotation=90)\n",
    "plt.tight_layout()\n",
    "plt.show()"
   ]
  },
  {
   "cell_type": "code",
   "execution_count": null,
   "metadata": {
    "collapsed": true
   },
   "outputs": [],
   "source": []
  }
 ],
 "metadata": {
  "kernelspec": {
   "display_name": "Python 2",
   "language": "python",
   "name": "python2"
  },
  "language_info": {
   "codemirror_mode": {
    "name": "ipython",
    "version": 2
   },
   "file_extension": ".py",
   "mimetype": "text/x-python",
   "name": "python",
   "nbconvert_exporter": "python",
   "pygments_lexer": "ipython2",
   "version": "2.7.11"
  }
 },
 "nbformat": 4,
 "nbformat_minor": 0
}
